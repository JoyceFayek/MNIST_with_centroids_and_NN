{
 "cells": [
  {
   "cell_type": "markdown",
   "id": "bbea5a2f",
   "metadata": {},
   "source": [
    "In This Assignment we applied the Centroid Fucntion to MNIST dataset, and extract feature vectors. and then we implemented NN to classify the dataset."
   ]
  },
  {
   "cell_type": "markdown",
   "id": "1aeae9ae",
   "metadata": {},
   "source": [
    "• Experiments 1,2: are all about tweaking the blocks number. with fixed number of neurons, learning rate and iterations.</p> \n",
    "\n",
    "• Experiments 3,4,5,6:are all about tweaking the number of neurons.with fixed learning rate,number of blocks and iterations</p>\n",
    "\n",
    "• Experiments 7,8,9: are all about tweaking the learning rate. with fixed number of neurons, blocks number and iterations.</p>\n",
    "\n",
    "• Experiments 10,11: are all about tweaking the iterations. with fixed number of neurons, blocks number and learning rate.</p>"
   ]
  },
  {
   "cell_type": "markdown",
   "id": "5f2798e9",
   "metadata": {},
   "source": [
    "# Experiments:"
   ]
  },
  {
   "cell_type": "markdown",
   "id": "91fff306",
   "metadata": {},
   "source": [
    "<b>Experiment 1:</b>\n",
    "\n",
    "  • Splits the Images into 2 X 2 Blocks\n",
    " \n",
    "    • neurons of hidden layers = 10 , 6\n",
    "    • learning rate = 0.01\n",
    "    • number of iterations = 100\n",
    "    \n",
    "  • Accuracy = 60.3 %"
   ]
  },
  {
   "cell_type": "markdown",
   "id": "5147e863",
   "metadata": {},
   "source": [
    "<b>Experiment 2:</b>\n",
    "\n",
    "  • Splits the Images into 4 X 4 Blocks\n",
    "  \n",
    "    • neurons of hidden layers = 10 , 6\n",
    "    • learning rate = 0.01\n",
    "    • number of iterations = 100\n",
    "    \n",
    "  • Accuracy = 69.7 %"
   ]
  },
  {
   "cell_type": "markdown",
   "id": "5c192504",
   "metadata": {},
   "source": [
    "<b>Experiment 3:</b>\n",
    "\n",
    "  • neurons of hidden layers = 20 , 12\n",
    "  \n",
    "    • Splits the Images into 4 X 4 Blocks\n",
    "    • learning rate = 0.01\n",
    "    • number of iterations = 100\n",
    "  \n",
    "  • Accuracy = 77.9 %"
   ]
  },
  {
   "cell_type": "markdown",
   "id": "f848da05",
   "metadata": {},
   "source": [
    "<b>Experiment 4:</b>\n",
    "\n",
    "  • neurons of hidden layers = 30 , 45 \n",
    "  \n",
    "    • Splits the Images into 4 X 4 Blocks\n",
    "    • learning rate = 0.01\n",
    "    • number of iterations = 100\n",
    "  \n",
    "  • Accuracy = 82.8 %"
   ]
  },
  {
   "cell_type": "markdown",
   "id": "c0ee9638",
   "metadata": {},
   "source": [
    "<b>Experiment 5:</b>\n",
    "\n",
    " • neurons of hidden layers = 40 , 24\n",
    "  \n",
    "    • Splits the Images into 4 X 4 Blocks\n",
    "    • learning rate = 0.01\n",
    "    • number of iterations = 100\n",
    "  \n",
    "  • Accuracy = 83.7 %"
   ]
  },
  {
   "cell_type": "markdown",
   "id": "0c4241b4",
   "metadata": {},
   "source": [
    "<b>Experiment 6:</b>\n",
    "\n",
    " • neurons of hidden layers = 50 , 45\n",
    "  \n",
    "    • Splits the Images into 4 X 4 Blocks\n",
    "    • learning rate = 0.01\n",
    "    • number of iterations = 100\n",
    "  \n",
    "  • Accuracy = 80 %"
   ]
  },
  {
   "cell_type": "markdown",
   "id": "504080a7",
   "metadata": {},
   "source": [
    "<b>Experiment 7:</b>\n",
    "\n",
    " • learning rate = 0.02\n",
    " \n",
    "    • Splits the Images into 4 X 4 Blocks\n",
    "    • neurons of hidden layers = 40 , 24\n",
    "    • number of iterations = 100\n",
    "  \n",
    "  • Accuracy = 82.8 %"
   ]
  },
  {
   "cell_type": "markdown",
   "id": "8b5486c1",
   "metadata": {},
   "source": [
    "<b>Experiment 8:</b>\n",
    "\n",
    " • learning rate = 0.03\n",
    " \n",
    "    • Splits the Images into 4 X 4 Blocks\n",
    "    • neurons of hidden layers = 40 , 24\n",
    "    • number of iterations = 100\n",
    "  \n",
    "  • Accuracy = 81.8 %"
   ]
  },
  {
   "cell_type": "markdown",
   "id": "6163374e",
   "metadata": {},
   "source": [
    "<b>Experiment 9:</b>\n",
    "\n",
    " • learning rate = 0.05\n",
    " \n",
    "    • Splits the Images into 4 X 4 Blocks\n",
    "    • neurons of hidden layers = 40 , 24\n",
    "    • number of iterations = 100\n",
    "  \n",
    "  • Accuracy = 80.9 %"
   ]
  },
  {
   "cell_type": "markdown",
   "id": "261fea62",
   "metadata": {},
   "source": [
    "<b>Experiment 10:</b>\n",
    "\n",
    " • number of iterations = 500\n",
    " \n",
    "    • Splits the Images into 4 X 4 Blocks\n",
    "    • neurons of hidden layers = 40 , 24\n",
    "    • learning rate = 0.01\n",
    "  \n",
    "  • Accuracy = 80.1 %"
   ]
  },
  {
   "cell_type": "markdown",
   "id": "3b182517",
   "metadata": {},
   "source": [
    "<b>Experiment 11:</b>\n",
    "\n",
    " • number of iterations = 200\n",
    " \n",
    "    • Splits the Images into 4 X 4 Blocks\n",
    "    • neurons of hidden layers = 40 , 24\n",
    "    • learning rate = 0.01\n",
    "  \n",
    "  • Accuracy = 78.7 %"
   ]
  },
  {
   "cell_type": "markdown",
   "id": "8f3c0872",
   "metadata": {},
   "source": [
    "# Best case"
   ]
  },
  {
   "cell_type": "markdown",
   "id": "36ab5f59",
   "metadata": {},
   "source": [
    "• neurons of hidden layers = 40 , 24\n",
    "  \n",
    "    • Splits the Images into 4 X 4 Blocks\n",
    "    • learning rate = 0.01\n",
    "    • number of iterations = 100\n",
    "  \n",
    "  • Accuracy = 83.7 %"
   ]
  }
 ],
 "metadata": {
  "kernelspec": {
   "display_name": "Python 3 (ipykernel)",
   "language": "python",
   "name": "python3"
  },
  "language_info": {
   "codemirror_mode": {
    "name": "ipython",
    "version": 3
   },
   "file_extension": ".py",
   "mimetype": "text/x-python",
   "name": "python",
   "nbconvert_exporter": "python",
   "pygments_lexer": "ipython3",
   "version": "3.9.7"
  }
 },
 "nbformat": 4,
 "nbformat_minor": 5
}
